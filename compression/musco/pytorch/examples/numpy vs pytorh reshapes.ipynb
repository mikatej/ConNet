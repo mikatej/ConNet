{
 "cells": [
  {
   "cell_type": "code",
   "execution_count": 21,
   "metadata": {},
   "outputs": [
    {
     "name": "stdout",
     "output_type": "stream",
     "text": [
      "tensor(0.)\n",
      "tensor(0.)\n",
      "tensor(0.)\n",
      "tensor(0.)\n"
     ]
    }
   ],
   "source": [
    "# Test conversion for cp3\n",
    "import numpy as np\n",
    "import torch\n",
    "\n",
    "rank = 20\n",
    "h = 3\n",
    "w = 4\n",
    "z = h*w\n",
    "kernel_size = (h,w)\n",
    "\n",
    "\n",
    "a = np.random.rand(z, rank)\n",
    "\n",
    "\n",
    "b = torch.FloatTensor(np.reshape(a.T, [rank, z, 1, 1])).contiguous()\n",
    "c = torch.FloatTensor(a).t().unsqueeze_(2).unsqueeze_(3).contiguous()\n",
    "print(torch.norm(b - c))\n",
    "\n",
    "\n",
    "b =torch.FloatTensor(np.reshape(a, [z, rank, 1, 1])).contiguous()\n",
    "c = torch.FloatTensor(a).unsqueeze_(2).unsqueeze_(3).contiguous()\n",
    "print(torch.norm(b - c))\n",
    "\n",
    "b = torch.FloatTensor(np.reshape(a.T, [rank, 1, *kernel_size])).contiguous()\n",
    "\n",
    "c = torch.FloatTensor(a)\n",
    "c = torch.einsum('hwr->rhw', c.resize_((*kernel_size, rank))).unsqueeze_(1).contiguous()\n",
    "print(torch.norm(b - c))\n",
    "\n",
    "aa = c.reshape(c.shape[0], np.prod(c.shape[2:])).t()\n",
    "print(torch.norm(torch.FloatTensor(a) - aa))"
   ]
  },
  {
   "cell_type": "code",
   "execution_count": 24,
   "metadata": {},
   "outputs": [
    {
     "name": "stdout",
     "output_type": "stream",
     "text": [
      "tensor(0.)\n",
      "tensor(0.)\n"
     ]
    }
   ],
   "source": [
    "# Test conversion for cp4\n",
    "import numpy as np\n",
    "import torch\n",
    "\n",
    "rank = 20\n",
    "h = 3\n",
    "w = 4\n",
    "\n",
    "kernel_size = (h,w)\n",
    "\n",
    "\n",
    "a = np.random.rand(h, rank)\n",
    "\n",
    "b = torch.FloatTensor(np.reshape(a.T, (rank, 1, kernel_size[0], 1))).contiguous()\n",
    "c = torch.FloatTensor(a).t().unsqueeze_(1).unsqueeze_(3)\n",
    "print(torch.norm(b - c))\n",
    "\n",
    "a = np.random.rand(w, rank)\n",
    "\n",
    "b = torch.FloatTensor(np.reshape(a.T, [rank, 1, 1, kernel_size[1]])).contiguous()\n",
    "c = torch.FloatTensor(a).t().unsqueeze_(1).unsqueeze_(2)\n",
    "print(torch.norm(b - c))\n"
   ]
  },
  {
   "cell_type": "code",
   "execution_count": null,
   "metadata": {},
   "outputs": [],
   "source": []
  }
 ],
 "metadata": {
  "kernelspec": {
   "display_name": "Python 3",
   "language": "python",
   "name": "python3"
  },
  "language_info": {
   "codemirror_mode": {
    "name": "ipython",
    "version": 3
   },
   "file_extension": ".py",
   "mimetype": "text/x-python",
   "name": "python",
   "nbconvert_exporter": "python",
   "pygments_lexer": "ipython3",
   "version": "3.6.8"
  }
 },
 "nbformat": 4,
 "nbformat_minor": 2
}
